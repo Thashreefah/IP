{
 "cells": [
  {
   "cell_type": "code",
   "execution_count": 1,
   "id": "fb530eec",
   "metadata": {},
   "outputs": [],
   "source": [
    "from PIL import Image\n",
    "import numpy as np\n",
    "w, h = 1000, 1000\n",
    "data = np.zeros((h, w, 3), dtype=np.uint8)\n",
    "data[0:256, 0:256] = [204, 0, 0]\n",
    "data[257:512,0:256] = [0, 255, 0]\n",
    "data[513:780, 0:256] = [0, 0, 255]\n",
    "data[781:1000, 0:256] = [0, 125, 255]\n",
    "data[0:256, 257:512] = [255, 212, 0]\n",
    "data[0:256, 513:780] = [0, 212, 56]\n",
    "data[0:256, 781:1000] = [245, 0, 56]\n",
    "data[257:512,257:512] = [24, 5, 255]\n",
    "data[257:512,513:780] = [240, 52, 255]\n",
    "data[257:512,781:1000] = [40, 252, 255]\n",
    "data[513:780,257:512] = [140, 52, 255]\n",
    "data[781:1000,257:512] = [240, 152, 255]\n",
    "data[781:1000,513:780] = [40, 152, 255]\n",
    "data[781:1000,780:1000] = [240, 152, 255]\n",
    "data[513:780,513:780] = [200, 52, 55]\n",
    "data[513:780,781:1000] = [0, 252, 155]\n",
    "img = Image.fromarray(data, 'RGB')\n",
    "img.save('my.jpg')\n",
    "img.show()"
   ]
  },
  {
   "cell_type": "code",
   "execution_count": null,
   "id": "be237436",
   "metadata": {},
   "outputs": [],
   "source": []
  }
 ],
 "metadata": {
  "kernelspec": {
   "display_name": "Python 3",
   "language": "python",
   "name": "python3"
  },
  "language_info": {
   "codemirror_mode": {
    "name": "ipython",
    "version": 3
   },
   "file_extension": ".py",
   "mimetype": "text/x-python",
   "name": "python",
   "nbconvert_exporter": "python",
   "pygments_lexer": "ipython3",
   "version": "3.8.8"
  }
 },
 "nbformat": 4,
 "nbformat_minor": 5
}
