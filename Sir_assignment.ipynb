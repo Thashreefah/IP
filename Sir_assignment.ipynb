{
 "cells": [
  {
   "cell_type": "code",
   "execution_count": 1,
   "id": "f749d966",
   "metadata": {},
   "outputs": [
    {
     "name": "stdout",
     "output_type": "stream",
     "text": [
      "[65.55568279797926, 62.3344189876845, 63.2848094296139]\n"
     ]
    }
   ],
   "source": [
    "from PIL import Image, ImageStat\n",
    "im = Image.open('DOG1.jpg')\n",
    "stat = ImageStat.Stat(im)\n",
    "print(stat.stddev)"
   ]
  },
  {
   "cell_type": "code",
   "execution_count": 2,
   "id": "73ed12f8",
   "metadata": {},
   "outputs": [
    {
     "data": {
      "text/plain": [
       "68.7715767872334"
      ]
     },
     "execution_count": 2,
     "metadata": {},
     "output_type": "execute_result"
    }
   ],
   "source": [
    "import cv2\n",
    "import numpy as np\n",
    "img=cv2.imread('DOG1.jpg')\n",
    "cv2.imshow('DOG1.jpg',img)\n",
    "cv2.waitKey(0)\n",
    "np.std(img)"
   ]
  },
  {
   "cell_type": "code",
   "execution_count": 6,
   "id": "fe0bfa42",
   "metadata": {},
   "outputs": [
    {
     "data": {
      "text/plain": [
       "4729.529773802339"
      ]
     },
     "execution_count": 6,
     "metadata": {},
     "output_type": "execute_result"
    }
   ],
   "source": [
    "import cv2\n",
    "import numpy as np\n",
    "img=cv2.imread('DOG1.jpg')\n",
    "cv2.imshow('DOG1.jpg',img)\n",
    "cv2.waitKey(0)\n",
    "np.var(img)"
   ]
  },
  {
   "cell_type": "code",
   "execution_count": 3,
   "id": "f8ab2b4a",
   "metadata": {},
   "outputs": [
    {
     "data": {
      "text/plain": [
       "0"
      ]
     },
     "execution_count": 3,
     "metadata": {},
     "output_type": "execute_result"
    }
   ],
   "source": [
    "import cv2\n",
    "import numpy as np\n",
    "img=cv2.imread('DOG1.jpg')\n",
    "cv2.imshow('DOG1.jpg',img)\n",
    "cv2.waitKey(0)\n",
    "#min_channels=np.amin([np.amin(img[:,:,0]),np.amin(img[:,:,1]),np.amin(img[:,:,2])])\n",
    "#print(min_channels)\n",
    "np.min(img)"
   ]
  },
  {
   "cell_type": "code",
   "execution_count": 4,
   "id": "97d14874",
   "metadata": {},
   "outputs": [
    {
     "data": {
      "text/plain": [
       "255"
      ]
     },
     "execution_count": 4,
     "metadata": {},
     "output_type": "execute_result"
    }
   ],
   "source": [
    "import cv2\n",
    "import numpy as np\n",
    "img=cv2.imread('DOG1.jpg')\n",
    "cv2.imshow('DOG1.jpg',img)\n",
    "cv2.waitKey(0)\n",
    "#max_channels=np.amax([np.amax(img[:,:,0]),np.amax(img[:,:,1]),np.amax(img[:,:,2])])\n",
    "#print(max_channels)\n",
    "np.max(img)"
   ]
  },
  {
   "cell_type": "code",
   "execution_count": 5,
   "id": "d6d4263a",
   "metadata": {},
   "outputs": [
    {
     "data": {
      "text/plain": [
       "88.44596534519015"
      ]
     },
     "execution_count": 5,
     "metadata": {},
     "output_type": "execute_result"
    }
   ],
   "source": [
    "import cv2\n",
    "import numpy as np\n",
    "img=cv2.imread('DOG1.jpg')\n",
    "cv2.imshow('DOG1.jpg',img)\n",
    "cv2.waitKey(0)\n",
    "np.average(img)"
   ]
  },
  {
   "cell_type": "code",
   "execution_count": 8,
   "id": "ddaacf0a",
   "metadata": {},
   "outputs": [],
   "source": [
    "from PIL import Image\n",
    "import numpy as np\n",
    "w, h = 1000, 1000\n",
    "data = np.zeros((h, w, 3), dtype=np.uint8)\n",
    "data[0:256, 0:256] = [204, 0, 0]\n",
    "data[257:512,0:256] = [0, 255, 0]\n",
    "data[513:780, 0:256] = [0, 0, 255]\n",
    "data[781:1000, 0:256] = [0, 125, 255]\n",
    "data[0:256, 257:512] = [255, 212, 0]\n",
    "data[0:256, 513:780] = [0, 212, 56]\n",
    "data[0:256, 781:1000] = [245, 0, 56]\n",
    "data[257:512,257:512] = [24, 5, 255]\n",
    "data[257:512,513:780] = [240, 52, 255]\n",
    "data[257:512,781:1000] = [40, 252, 255]\n",
    "data[513:780,257:512] = [140, 52, 255]\n",
    "data[781:1000,257:512] = [240, 152, 255]\n",
    "data[781:1000,513:780] = [40, 152, 255]\n",
    "data[781:1000,780:1000] = [240, 152, 255]\n",
    "data[513:780,513:780] = [200, 52, 55]\n",
    "data[513:780,781:1000] = [0, 252, 155]\n",
    "img = Image.fromarray(data, 'RGB')\n",
    "img.save('my.jpg')\n",
    "img.show()"
   ]
  },
  {
   "cell_type": "code",
   "execution_count": 7,
   "id": "dfd67572",
   "metadata": {},
   "outputs": [
    {
     "data": {
      "image/png": "[encoded data removed]",
      "text/plain": [
       "<Figure size 432x288 with 1 Axes>"
      ]
     },
     "metadata": {
      "needs_background": "light"
     },
     "output_type": "display_data"
    }
   ],
   "source": [
    "import numpy as np\n",
    "import matplotlib.pyplot as plt\n",
    "\n",
    "\n",
    "array_colors = np.array([[[255, 0, 0], \n",
    "                         [0, 255, 0],\n",
    "                         [0, 0, 255]],\n",
    "                         [[0, 0, 0], \n",
    "                    [255, 255, 255],\n",
    "                    [128, 128, 128]],\n",
    "                    [[255, 212, 0], \n",
    "                    [255, 0, 255],\n",
    "                    [240, 152, 255]],\n",
    "                    ])\n",
    "plt.imshow(array_colors);"
   ]
  },
  {
   "cell_type": "code",
   "execution_count": null,
   "id": "2ea3e13c",
   "metadata": {},
   "outputs": [],
   "source": []
  }
 ],
 "metadata": {
  "kernelspec": {
   "display_name": "Python 3 (ipykernel)",
   "language": "python",
   "name": "python3"
  },
  "language_info": {
   "codemirror_mode": {
    "name": "ipython",
    "version": 3
   },
   "file_extension": ".py",
   "mimetype": "text/x-python",
   "name": "python",
   "nbconvert_exporter": "python",
   "pygments_lexer": "ipython3",
   "version": "3.9.7"
  }
 },
 "nbformat": 4,
 "nbformat_minor": 5
}
