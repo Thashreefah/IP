{
 "cells": [
  {
   "cell_type": "code",
   "execution_count": 1,
   "id": "07b6572f",
   "metadata": {},
   "outputs": [
    {
     "data": {
      "image/png": "[encoded data removed]",
      "text/plain": [
       "<Figure size 432x288 with 1 Axes>"
      ]
     },
     "metadata": {
      "needs_background": "light"
     },
     "output_type": "display_data"
    }
   ],
   "source": [
    "from PIL import Image\n",
    "import numpy as np\n",
    "import matplotlib.pyplot as plt\n",
    "w, h = 100, 100\n",
    "data = np. zeros((h, w, 3), dtype=np. uint8)\n",
    "data[0:50,0:50] = [66, 66, 125]\n",
    "data[20:60,20:60]=[25,55,100]\n",
    "data[40:70,40:70]=[56,78,89]\n",
    "data[60:80,60:80]=[22,52,29]\n",
    "data[70:80,70:80]=[22,16,13]\n",
    "img = Image. fromarray(data, 'RGB')\n",
    "img. save('my.png')\n",
    "img. show()\n",
    "plt.imshow(img)\n",
    "plt.show()"
   ]
  },
  {
   "cell_type": "code",
   "execution_count": null,
   "id": "5937dfdd",
   "metadata": {},
   "outputs": [],
   "source": [
    "MATRIX 0...1....2\n",
    "import numpy as np\n",
    "import matplotlib.pyplot as plt\n",
    "arr = np.zeros((256,256,3), dtype=np.uint8)\n",
    "imgsize = arr.shape[:2]\n",
    "innerColor = (0,0,0)\n",
    "outerColor = (255, 255, 255)\n",
    "for y in range(imgsize[1]):\n",
    "for x in range(imgsize[0]):\n",
    "#Find the distance to the center\n",
    "distanceToCenter = np.sqrt((x - imgsize[0]//2) ** 2 + (y - imgsize[1]//2) ** 2)\n",
    "#Make it on a scale from 0 to 1innerColor\n",
    "distanceToCenter = distanceToCenter / (np.sqrt(2) * imgsize[0]/2)\n",
    "#Calculate r, g, and b values\n",
    "r = outerColor[0] * distanceToCenter + innerColor[0] * (1 - distanceToCenter)\n",
    "g = outerColor[1] * distanceToCenter + innerColor[1] * (1 - distanceToCenter)\n",
    "b = outerColor[2] * distanceToCenter + innerColor[2] * (1 - distanceToCenter)\n",
    "# print r, g, b\n",
    "arr[y, x] = (int(r), int(g), int(b))\n",
    "plt.imshow(arr, cmap='gray')\n",
    "plt.show()"
   ]
  }
 ],
 "metadata": {
  "kernelspec": {
   "display_name": "Python 3",
   "language": "python",
   "name": "python3"
  },
  "language_info": {
   "codemirror_mode": {
    "name": "ipython",
    "version": 3
   },
   "file_extension": ".py",
   "mimetype": "text/x-python",
   "name": "python",
   "nbconvert_exporter": "python",
   "pygments_lexer": "ipython3",
   "version": "3.8.8"
  }
 },
 "nbformat": 4,
 "nbformat_minor": 5
}
